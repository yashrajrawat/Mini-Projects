{
 "cells": [
  {
   "cell_type": "code",
   "execution_count": 21,
   "metadata": {},
   "outputs": [
    {
     "name": "stdout",
     "output_type": "stream",
     "text": [
      "Overwriting stopwatch.py\n"
     ]
    }
   ],
   "source": [
    "%%writefile stopwatch.py\n",
    "import tkinter as tk\n",
    "from random import choice\n",
    "from datetime import datetime\n",
    "\n",
    "root=tk.Tk()\n",
    "root.config(bg='#123356')\n",
    "root.wm_minsize(500,500)\n",
    "run=False\n",
    "count=-1\n",
    "\n",
    "def get_time():\n",
    "    global count\n",
    "    if run:\n",
    "        if count!=-1:\n",
    "            d=datetime.fromtimestamp(count)\n",
    "            l2.configure(text=d.strftime(\"%H:%M:%S\"))\n",
    "            count+=1\n",
    "            l2.after(1000,get_time)\n",
    "\n",
    "def start():\n",
    "    global run,count\n",
    "    if count==-1:\n",
    "        run=True\n",
    "        count=66600\n",
    "        b1['state']='disabled'\n",
    "        b2['state']='normal'\n",
    "        b3['state']='normal'\n",
    "        b4['state']='normal'\n",
    "        l1.configure(text='Started.....')\n",
    "        get_time()\n",
    "    else:\n",
    "        run=True\n",
    "        b1['state']='disabled'\n",
    "        b2['state']='normal'\n",
    "        b3['state']='normal'\n",
    "        b4['state']='normal'\n",
    "        l1.configure(text='Started.....')\n",
    "        get_time()\n",
    "\n",
    "    \n",
    "def stop():\n",
    "    global run,count\n",
    "    run=False\n",
    "    count=-1\n",
    "    l1.configure(text='Stoped.....')\n",
    "    b2['state']='disabled'\n",
    "    b1['state']='normal'\n",
    "    b3['state']='normal'\n",
    "    b4['state']='normal'\n",
    "\n",
    "def reset():\n",
    "    global run,count\n",
    "    run=True\n",
    "    l1.configure(text='Reset.....')\n",
    "    count=66600\n",
    "    b4['state']='normal'\n",
    "    b3['state']='disabled'\n",
    "    b2['state']='normal'\n",
    "    b1['state']='normal'\n",
    "    get_time()\n",
    "    \n",
    "def pause():\n",
    "    global run,count\n",
    "    run=False\n",
    "    l1.configure(text='Paused.....')\n",
    "    b4['state']='disabled'\n",
    "    b1['state']='normal'\n",
    "    b3['state']='normal'\n",
    "    b2['state']='normal'\n",
    "    \n",
    "l1=tk.Label(root,text='StopWatch',bg='#123356',fg='white',font='times 30 italic')\n",
    "l1.pack()\n",
    "\n",
    "l2=tk.Label(root,text='Time',bg='#123356',fg='white',font='time 25 italic')\n",
    "l2.pack(pady=20)\n",
    "\n",
    "b1=tk.Button(root,text='Start',bg='black',fg='white',font='time 25 bold',command=start)\n",
    "b1.pack(fill=\"x\")\n",
    "\n",
    "b2=tk.Button(root,text='Stop',bg='black',fg='white',font='time 25 bold',command=stop)\n",
    "b2.pack(fill=\"x\")\n",
    "\n",
    "b3=tk.Button(root,text='Reset',bg='black',fg='white',font='time 25 bold',command=reset)\n",
    "b3.pack(fill=\"x\")\n",
    "\n",
    "b4=tk.Button(root,text='Pause',bg='black',fg='white',font='time 25 bold',command=pause)\n",
    "b4.pack(fill=\"x\")\n",
    "            \n",
    "root.mainloop()"
   ]
  },
  {
   "cell_type": "code",
   "execution_count": 22,
   "metadata": {},
   "outputs": [],
   "source": [
    "!python stopwatch.py"
   ]
  },
  {
   "cell_type": "code",
   "execution_count": null,
   "metadata": {},
   "outputs": [],
   "source": []
  }
 ],
 "metadata": {
  "kernelspec": {
   "display_name": "Python 3",
   "language": "python",
   "name": "python3"
  },
  "language_info": {
   "codemirror_mode": {
    "name": "ipython",
    "version": 3
   },
   "file_extension": ".py",
   "mimetype": "text/x-python",
   "name": "python",
   "nbconvert_exporter": "python",
   "pygments_lexer": "ipython3",
   "version": "3.8.5"
  }
 },
 "nbformat": 4,
 "nbformat_minor": 4
}
