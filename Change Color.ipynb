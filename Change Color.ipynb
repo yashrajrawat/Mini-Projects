{
 "cells": [
  {
   "cell_type": "code",
   "execution_count": 49,
   "metadata": {},
   "outputs": [
    {
     "name": "stderr",
     "output_type": "stream",
     "text": [
      "UsageError: Line magic function `%%writefile` not found.\n"
     ]
    }
   ],
   "source": [
    "#change color\n",
    "%%writefile changecolor.py\n",
    "import tkinter as tk\n",
    "root=tk.Tk()\n",
    "root.config(bg='black')\n",
    "root.wm_minsize(500,500)\n",
    "from random import choice\n",
    "run=False\n",
    "\n",
    "def on_enter(e):\n",
    "    global run\n",
    "    run=False\n",
    "    color()\n",
    "    \n",
    "def on_leave(e):\n",
    "    global run\n",
    "    run=True\n",
    "    color()\n",
    "\n",
    "def color():\n",
    "    if run==True:\n",
    "        l2.configure(fg=give_color())\n",
    "        l2.after(1000,color)\n",
    "\n",
    "def give_color():\n",
    "    code=['1','2','3','4','5','6','a','b','c','d','e','f']\n",
    "    c='#'\n",
    "    for i in range(6):\n",
    "        c+=choice(code)\n",
    "    return c\n",
    "    \n",
    "def changecolor():\n",
    "    global run\n",
    "    run=True\n",
    "    b1['state']='disabled'\n",
    "    color()\n",
    "\n",
    "    \n",
    "l1=tk.Label(root,text='WELCOME',bg='black',fg='white',font='times 30 italic')\n",
    "l1.pack()\n",
    "\n",
    "l2=tk.Label(root,text='Colors',bg='black',fg='white',font='time 25 italic')\n",
    "l2.pack(pady=20)\n",
    "\n",
    "b1=tk.Button(root,text='Start',bg='#123456',fg='white',font='time 25 bold',command=changecolor)\n",
    "b1.pack(fill=\"x\")\n",
    "\n",
    "l2.bind('<Enter>',on_enter)\n",
    "l2.bind('<Leave>',on_leave)\n",
    "\n",
    "root.mainloop()"
   ]
  },
  {
   "cell_type": "code",
   "execution_count": 50,
   "metadata": {},
   "outputs": [],
   "source": [
    "!python changecolor.py"
   ]
  },
  {
   "cell_type": "code",
   "execution_count": null,
   "metadata": {},
   "outputs": [],
   "source": []
  }
 ],
 "metadata": {
  "kernelspec": {
   "display_name": "Python 3",
   "language": "python",
   "name": "python3"
  },
  "language_info": {
   "codemirror_mode": {
    "name": "ipython",
    "version": 3
   },
   "file_extension": ".py",
   "mimetype": "text/x-python",
   "name": "python",
   "nbconvert_exporter": "python",
   "pygments_lexer": "ipython3",
   "version": "3.8.5"
  }
 },
 "nbformat": 4,
 "nbformat_minor": 4
}
